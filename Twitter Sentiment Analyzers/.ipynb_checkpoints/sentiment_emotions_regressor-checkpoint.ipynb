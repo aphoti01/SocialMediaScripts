{
 "cells": [
  {
   "cell_type": "markdown",
   "metadata": {},
   "source": [
    "# Sentiment emotions regressor\n",
    "\n",
    "1. Data pre-processing\n",
    "2. Feature engineering\n",
    "3. Model building"
   ]
  },
  {
   "cell_type": "code",
   "execution_count": 1,
   "metadata": {},
   "outputs": [
    {
     "name": "stderr",
     "output_type": "stream",
     "text": [
      "Using TensorFlow backend.\n",
      "/opt/anaconda3/lib/python3.7/site-packages/tqdm/std.py:648: FutureWarning: The Panel class is removed from pandas. Accessing it from the top-level namespace will also be removed in the next version\n",
      "  from pandas import Panel\n"
     ]
    },
    {
     "name": "stdout",
     "output_type": "stream",
     "text": [
      "Reading english - 1grams ...\n"
     ]
    }
   ],
   "source": [
    "from sklearn import model_selection, preprocessing, linear_model, naive_bayes, metrics, svm\n",
    "from sklearn.feature_extraction.text import TfidfVectorizer, CountVectorizer\n",
    "from sklearn import decomposition, ensemble\n",
    "\n",
    "import pandas as pd\n",
    "import numpy as np\n",
    "import emoji\n",
    "import xgboost, textblob, string, ekphrasis, nltk, re\n",
    "\n",
    "nltk.download('stopwords')\n",
    "nltk.download('punkt')\n",
    "nltk.download('wordnet')\n",
    "nltk.download('averaged_perceptron_tagger')\n",
    "\n",
    "from keras.preprocessing import text, sequence\n",
    "from keras import layers, models, optimizers\n",
    "from xgboost.sklearn import XGBClassifier\n",
    "\n",
    "from sklearn.svm import NuSVC, SVC\n",
    "from sklearn.neural_network import MLPClassifier\n",
    "from sklearn.ensemble import RandomForestClassifier\n",
    "from sklearn.model_selection import cross_validate\n",
    "from mlxtend.classifier import StackingCVClassifier\n",
    "\n",
    "from ekphrasis.classes.spellcorrect import SpellCorrector\n",
    "from ekphrasis.classes.preprocessor import TextPreProcessor\n",
    "from ekphrasis.classes.tokenizer import SocialTokenizer\n",
    "from ekphrasis.dicts.emoticons import emoticons\n",
    "\n",
    "from nltk.stem import WordNetLemmatizer\n",
    "from nltk.tag import pos_tag\n",
    "\n",
    "import gensim\n",
    "from gensim.models import Word2Vec\n",
    "\n",
    "from tqdm import tqdm\n",
    "tqdm.pandas(desc=\"progress-bar\")\n",
    "from gensim.models import Doc2Vec\n",
    "from sklearn import utils\n",
    "from gensim.models.doc2vec import TaggedDocument\n",
    "\n",
    "sp = SpellCorrector(corpus=\"english\") \n",
    "\n",
    "%matplotlib inline\n",
    "import matplotlib.pyplot as plt\n",
    "plt.style.use('seaborn-whitegrid')"
   ]
  },
  {
   "cell_type": "code",
   "execution_count": 2,
   "metadata": {},
   "outputs": [
    {
     "data": {
      "text/html": [
       "<div>\n",
       "<style scoped>\n",
       "    .dataframe tbody tr th:only-of-type {\n",
       "        vertical-align: middle;\n",
       "    }\n",
       "\n",
       "    .dataframe tbody tr th {\n",
       "        vertical-align: top;\n",
       "    }\n",
       "\n",
       "    .dataframe thead th {\n",
       "        text-align: right;\n",
       "    }\n",
       "</style>\n",
       "<table border=\"1\" class=\"dataframe\">\n",
       "  <thead>\n",
       "    <tr style=\"text-align: right;\">\n",
       "      <th></th>\n",
       "      <th>text</th>\n",
       "      <th>y</th>\n",
       "    </tr>\n",
       "  </thead>\n",
       "  <tbody>\n",
       "    <tr>\n",
       "      <td>0</td>\n",
       "      <td>This the most depressing shit ever</td>\n",
       "      <td>0.861</td>\n",
       "    </tr>\n",
       "    <tr>\n",
       "      <td>1</td>\n",
       "      <td>final vestiges of my 90's childhood were just ...</td>\n",
       "      <td>0.417</td>\n",
       "    </tr>\n",
       "    <tr>\n",
       "      <td>2</td>\n",
       "      <td>@ManUnitedWriter He has had a dreadful first h...</td>\n",
       "      <td>0.500</td>\n",
       "    </tr>\n",
       "    <tr>\n",
       "      <td>3</td>\n",
       "      <td>feel really sad and down today😒</td>\n",
       "      <td>0.833</td>\n",
       "    </tr>\n",
       "    <tr>\n",
       "      <td>4</td>\n",
       "      <td>Wow just watched Me Before You and it was seri...</td>\n",
       "      <td>0.667</td>\n",
       "    </tr>\n",
       "    <tr>\n",
       "      <td>...</td>\n",
       "      <td>...</td>\n",
       "      <td>...</td>\n",
       "    </tr>\n",
       "    <tr>\n",
       "      <td>1925</td>\n",
       "      <td>@JeffBezos @amazon Who can I talk to about bei...</td>\n",
       "      <td>0.553</td>\n",
       "    </tr>\n",
       "    <tr>\n",
       "      <td>1926</td>\n",
       "      <td>Brown envelopes can induce panic. #posttruth</td>\n",
       "      <td>0.522</td>\n",
       "    </tr>\n",
       "    <tr>\n",
       "      <td>1927</td>\n",
       "      <td>I wont rt things that might offend your faves ...</td>\n",
       "      <td>0.400</td>\n",
       "    </tr>\n",
       "    <tr>\n",
       "      <td>1928</td>\n",
       "      <td>and after i got home in such a horrible mood m...</td>\n",
       "      <td>0.727</td>\n",
       "    </tr>\n",
       "    <tr>\n",
       "      <td>1929</td>\n",
       "      <td>hit by a sudden wave of sadness</td>\n",
       "      <td>0.800</td>\n",
       "    </tr>\n",
       "  </tbody>\n",
       "</table>\n",
       "<p>1930 rows × 2 columns</p>\n",
       "</div>"
      ],
      "text/plain": [
       "                                                   text      y\n",
       "0                    This the most depressing shit ever  0.861\n",
       "1     final vestiges of my 90's childhood were just ...  0.417\n",
       "2     @ManUnitedWriter He has had a dreadful first h...  0.500\n",
       "3                       feel really sad and down today😒  0.833\n",
       "4     Wow just watched Me Before You and it was seri...  0.667\n",
       "...                                                 ...    ...\n",
       "1925  @JeffBezos @amazon Who can I talk to about bei...  0.553\n",
       "1926       Brown envelopes can induce panic. #posttruth  0.522\n",
       "1927  I wont rt things that might offend your faves ...  0.400\n",
       "1928  and after i got home in such a horrible mood m...  0.727\n",
       "1929                    hit by a sudden wave of sadness  0.800\n",
       "\n",
       "[1930 rows x 2 columns]"
      ]
     },
     "execution_count": 2,
     "metadata": {},
     "output_type": "execute_result"
    }
   ],
   "source": [
    "emotion = 'sadness'\n",
    "\n",
    "train = pd.read_csv('Data/Anger:fear:joy:sadness/Continuous/EI-reg-En-train/EI-reg-En-{}-train.txt'\n",
    "                    .format(emotion), sep='\\t')\n",
    "valid = pd.read_csv('Data/Anger:fear:joy:sadness/Continuous/2018-EI-reg-En-dev/2018-EI-reg-En-{}-dev.txt'\n",
    "                    .format(emotion), sep='\\t')\n",
    "\n",
    "tweets = train.append(valid)\n",
    "tweets = tweets.reset_index(drop = True)\n",
    "tweets = tweets.drop(['ID', 'Affect Dimension'], axis = 1)\n",
    "\n",
    "tweets.columns = ['text', 'y']\n",
    "\n",
    "tweets"
   ]
  },
  {
   "cell_type": "markdown",
   "metadata": {},
   "source": [
    "## Data pre-processing\n",
    "\n",
    "1. Normalization, unpacking, tokenizer\n",
    "2. Tweet cleaning, lemmatizer, stopword removal"
   ]
  },
  {
   "cell_type": "code",
   "execution_count": 3,
   "metadata": {},
   "outputs": [
    {
     "name": "stderr",
     "output_type": "stream",
     "text": [
      "/opt/anaconda3/lib/python3.7/site-packages/ekphrasis/classes/tokenizer.py:225: FutureWarning: Possible nested set at position 2190\n",
      "  self.tok = re.compile(r\"({})\".format(\"|\".join(pipeline)))\n"
     ]
    },
    {
     "name": "stdout",
     "output_type": "stream",
     "text": [
      "Reading twitter - 1grams ...\n",
      "Reading twitter - 2grams ...\n"
     ]
    },
    {
     "name": "stderr",
     "output_type": "stream",
     "text": [
      "/opt/anaconda3/lib/python3.7/site-packages/ekphrasis/classes/exmanager.py:14: FutureWarning: Possible nested set at position 42\n",
      "  regexes = {k.lower(): re.compile(self.expressions[k]) for k, v in\n"
     ]
    },
    {
     "name": "stdout",
     "output_type": "stream",
     "text": [
      "Reading twitter - 1grams ...\n"
     ]
    }
   ],
   "source": [
    "text_processor = TextPreProcessor(\n",
    "    normalize=['url', 'email', 'percent', 'money', 'phone', 'time', 'date', 'number'],\n",
    "    fix_html=True,  \n",
    "    segmenter=\"twitter\", \n",
    "    corrector=\"twitter\", \n",
    "    unpack_hashtags=True,  \n",
    "    unpack_contractions=True, \n",
    "    spell_correct_elong=True,\n",
    "    tokenizer=SocialTokenizer(lowercase=True).tokenize,\n",
    "    dicts=[emoticons]\n",
    ")"
   ]
  },
  {
   "cell_type": "code",
   "execution_count": 4,
   "metadata": {},
   "outputs": [],
   "source": [
    "stopwords = nltk.corpus.stopwords.words('english')\n",
    "rooter = nltk.stem.WordNetLemmatizer().lemmatize\n",
    "punctuation = '!\"$%&\\'()*+,-./:;=?[\\\\]^_`{|}~•'\n",
    "\n",
    "def get_word_and_tag(tokens):\n",
    "    tagged = pos_tag(tokens)\n",
    "    cleaned_tags = []\n",
    "    for word, tag in tagged:\n",
    "        if tag.startswith(\"NN\"):\n",
    "            pos = 'n'\n",
    "        elif tag.startswith('VB'):\n",
    "            pos = 'v'\n",
    "        else:\n",
    "            pos = 'a'\n",
    "        cleaned_tags.append((word,pos))\n",
    "    return cleaned_tags\n",
    "\n",
    "def clean_tweet(tweet):\n",
    "    tweet = tweet.lower() # lower case\n",
    "    tweet = emoji.demojize(tweet) #emojis to text\n",
    "    tweet = re.sub('['+punctuation + ']+', ' ', tweet) # remove punctuation\n",
    "    tokens = [word for word in tweet.split(' ') if word not in stopwords] # remove stopwords\n",
    "    tokens = [word for word in tokens if len(word)>0] #remove double spaces\n",
    "    \n",
    "    tokens = [rooter(word,tag) for word,tag in get_word_and_tag(tokens)] # apply word rooter with POS tagging\n",
    "    tweet = ' '.join(tokens)\n",
    "    return tweet"
   ]
  },
  {
   "cell_type": "code",
   "execution_count": 5,
   "metadata": {},
   "outputs": [],
   "source": [
    "tweets['corrected_text'] = [\" \".join(text_processor.pre_process_doc(s)) for s in tweets.text]\n",
    "tweets['corrected_text'] = tweets['corrected_text'].apply(clean_tweet)"
   ]
  },
  {
   "cell_type": "code",
   "execution_count": 6,
   "metadata": {},
   "outputs": [],
   "source": [
    "train_x, valid_x, train_y, valid_y = model_selection.train_test_split(tweets['corrected_text'], \n",
    "                                                                      tweets['y'], test_size = 0.2, random_state=0)"
   ]
  },
  {
   "cell_type": "markdown",
   "metadata": {},
   "source": [
    "## Model building"
   ]
  },
  {
   "cell_type": "code",
   "execution_count": 10,
   "metadata": {},
   "outputs": [],
   "source": [
    "def train_model(regressor, train, train_y, valid, valid_y):\n",
    "    \"\"\"\n",
    "    regressor: Classifier object\n",
    "    train: Train predictors\n",
    "    train_y: Train y\n",
    "    valid: Validation predictors\n",
    "    valid_y: Validation y\n",
    "    \"\"\"\n",
    "    regressor.fit(train, train_y)\n",
    "    preds = regressor.predict(valid)\n",
    "    return preds"
   ]
  },
  {
   "cell_type": "code",
   "execution_count": 11,
   "metadata": {},
   "outputs": [],
   "source": [
    "def prep_data(emotion):\n",
    "    \"\"\"\n",
    "    emotion: Emotion data to prepare\n",
    "    Read and clean the dataset \n",
    "    \"\"\"\n",
    "    train = pd.read_csv('Data/Anger:fear:joy:sadness/Continuous/EI-reg-En-train/EI-reg-En-{}-train.txt'\n",
    "                        .format(emotion), sep='\\t')\n",
    "    valid = pd.read_csv('Data/Anger:fear:joy:sadness/Continuous/2018-EI-reg-En-dev/2018-EI-reg-En-{}-dev.txt'\n",
    "                        .format(emotion), sep='\\t')\n",
    "\n",
    "    tweets = train.append(valid)\n",
    "    tweets = tweets.reset_index(drop = True)\n",
    "    tweets = tweets.drop(['ID', 'Affect Dimension'], axis = 1)\n",
    "\n",
    "    tweets.columns = ['text', 'y']\n",
    "    \n",
    "    tweets['corrected_text'] = [\" \".join(text_processor.pre_process_doc(s)) for s in tweets.text]\n",
    "    \n",
    "    tweets['corrected_text'] = tweets['corrected_text'].apply(clean_tweet)\n",
    "    \n",
    "    return tweets"
   ]
  },
  {
   "cell_type": "code",
   "execution_count": 17,
   "metadata": {},
   "outputs": [
    {
     "name": "stdout",
     "output_type": "stream",
     "text": [
      "anger\n",
      "Correlation coefficient:  0.6336445230648905\n",
      "fear\n",
      "Correlation coefficient:  0.6400042465786856\n",
      "joy\n",
      "Correlation coefficient:  0.5884656050756636\n",
      "sadness\n",
      "Correlation coefficient:  0.6677664443063058\n"
     ]
    }
   ],
   "source": [
    "for emotion in ['anger', 'fear', 'joy', 'sadness']:\n",
    "    print(emotion)\n",
    "    tweets = prep_data(emotion)\n",
    "    \n",
    "    #Train, test split\n",
    "    train_x, valid_x, train_y, valid_y = model_selection.train_test_split(tweets['corrected_text'], \n",
    "                                                                          tweets['y'], test_size = 0.2, random_state=0)\n",
    "    \n",
    "    #Create count vectors\n",
    "    count_vect = CountVectorizer(analyzer='word', token_pattern=r'\\w{3,}', max_features=5000)\n",
    "    count_vect.fit(tweets.corrected_text)\n",
    "    x_count = count_vect.transform(tweets.corrected_text)\n",
    "    xtrain_count =  count_vect.transform(train_x)\n",
    "    xvalid_count =  count_vect.transform(valid_x)\n",
    "    \n",
    "    #Initialize regressor\n",
    "    regressor = xgboost.XGBRegressor(n_estimators=1000, max_depth = 2, learning_rate = 0.2)\n",
    "\n",
    "    preds = train_model(regressor, xtrain_count, train_y, xvalid_count, valid_y)\n",
    "    print('Correlation coefficient: ', np.corrcoef(preds, valid_y)[1,0])"
   ]
  },
  {
   "cell_type": "code",
   "execution_count": 13,
   "metadata": {},
   "outputs": [
    {
     "data": {
      "text/plain": [
       "<matplotlib.collections.PathCollection at 0x1551e1890>"
      ]
     },
     "execution_count": 13,
     "metadata": {},
     "output_type": "execute_result"
    },
    {
     "data": {
      "image/png": "[encoded data removed]",
      "text/plain": [
       "<Figure size 432x288 with 1 Axes>"
      ]
     },
     "metadata": {
      "needs_background": "light"
     },
     "output_type": "display_data"
    }
   ],
   "source": [
    "d = {'Actual': valid_y, 'Predictions':preds}\n",
    "\n",
    "res = pd.DataFrame(d)\n",
    "\n",
    "plt.scatter(res.Actual, res.Predictions)"
   ]
  }
 ],
 "metadata": {
  "kernelspec": {
   "display_name": "Python 3",
   "language": "python",
   "name": "python3"
  },
  "language_info": {
   "codemirror_mode": {
    "name": "ipython",
    "version": 3
   },
   "file_extension": ".py",
   "mimetype": "text/x-python",
   "name": "python",
   "nbconvert_exporter": "python",
   "pygments_lexer": "ipython3",
   "version": "3.7.4"
  }
 },
 "nbformat": 4,
 "nbformat_minor": 2
}
